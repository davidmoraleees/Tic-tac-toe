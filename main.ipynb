{
 "cells": [
  {
   "cell_type": "markdown",
   "metadata": {},
   "source": [
    "# Pràctica 7. Ús de bucles condicionals i funcions amb Tkinter"
   ]
  },
  {
   "cell_type": "markdown",
   "metadata": {},
   "source": [
    "# Tres en ratlla"
   ]
  },
  {
   "cell_type": "markdown",
   "metadata": {},
   "source": [
    "----"
   ]
  },
  {
   "cell_type": "markdown",
   "metadata": {},
   "source": [
    "David Morales\n",
    "\n",
    "09/12/2020\n",
    "\n",
    "Grup M2"
   ]
  },
  {
   "cell_type": "markdown",
   "metadata": {},
   "source": [
    "----"
   ]
  },
  {
   "cell_type": "markdown",
   "metadata": {},
   "source": [
    "## Importació de llibreries per la pràctica"
   ]
  },
  {
   "cell_type": "code",
   "execution_count": 4,
   "metadata": {},
   "outputs": [],
   "source": [
    "import tkinter"
   ]
  },
  {
   "cell_type": "markdown",
   "metadata": {},
   "source": [
    "----"
   ]
  },
  {
   "cell_type": "markdown",
   "metadata": {},
   "source": [
    "## Pas 1. Definició d’una funció d’entrada de dades"
   ]
  },
  {
   "cell_type": "markdown",
   "metadata": {},
   "source": [
    "Implementar una funció que demani un valor enter per teclat. Si no es verifica que min <= i <= max s’ha de tornar a demanar."
   ]
  },
  {
   "cell_type": "code",
   "execution_count": 5,
   "metadata": {},
   "outputs": [
    {
     "name": "stdout",
     "output_type": "stream",
     "text": [
      "Digues un valor enter: 4\n",
      "Aquest valor no està entre el 1 i el 3\n",
      "Digues un valor enter: 1\n"
     ]
    },
    {
     "data": {
      "text/plain": [
       "1"
      ]
     },
     "execution_count": 5,
     "metadata": {},
     "output_type": "execute_result"
    }
   ],
   "source": [
    "def demanar_enter(text, minim, maxim): #Creo la funció, en funció dels valors mínim i màxim, i en funció del text.\n",
    "    enter = int(input('Digues un valor enter: '))  #Demano un enter a l'usuari.\n",
    "    if (enter < minim) or (enter > maxim):\n",
    "        print('Aquest valor no està entre el {} i el {}'.format(minim, maxim))  \n",
    "        return demanar_enter(text, minim, maxim) #Si l'enter no està comprès en el rang, torno \n",
    "                                             #a demanar un altre enter a l'usuari, cridant la funció.\n",
    "    else: #Si l'enter sí que està comprès en el rang, l'imprimeixo amb la sentècia return.\n",
    "        return enter\n",
    "\n",
    "text = 'Digues un valor enter: '\n",
    "demanar_enter(text, 1, 3)  #Crido la funció, imposant mínim = 1 i màxim = 3."
   ]
  },
  {
   "cell_type": "markdown",
   "metadata": {},
   "source": [
    "He creat una funció en la qual es demana un enter per teclat. Aquest enter es compara amb el valor mínim i màxim determinats (en aquest cas, el mínim és 1 i el màxim és 3). Si es comprèn en el rang determinat, la funció retorna l'enter introduït. En el cas que no es comprengui en el rang, s'imprimeix un missatge i es torna a cridar la funció perquè l'usuari introdueixi un valor en el rang determinat.\n",
    "\n",
    "Una vegada s'ha retornat l'enter, s'ha acabat el programa."
   ]
  },
  {
   "cell_type": "markdown",
   "metadata": {},
   "source": [
    "----"
   ]
  },
  {
   "cell_type": "markdown",
   "metadata": {},
   "source": [
    "## Pas 2. Inicialització de la finestra"
   ]
  },
  {
   "cell_type": "markdown",
   "metadata": {},
   "source": [
    "Implementar una funció que inicialitzi la finestra gràfica del joc amb Tkinter, de 600 x 600 píxels."
   ]
  },
  {
   "cell_type": "code",
   "execution_count": 6,
   "metadata": {},
   "outputs": [],
   "source": [
    "def ini_finestra():\n",
    "    root = tkinter.Tk() \n",
    "    finestra = tkinter.Canvas(root,\n",
    "                        borderwidth = 20,  # gruix del marc que no es dibuixa\n",
    "                        background = 'lightblue',  # color de fons blau fluix.\n",
    "                        cursor = 'circle',  # forma del cursor\n",
    "                        height=600,  \n",
    "                        width=600)\n",
    "    finestra.pack()  #El poso a la finestra principal  \n",
    "    return finestra\n",
    "   \n",
    "finestra = ini_finestra() #Crido la funció i la guardo en la variable finestra.\n",
    "finestra.mainloop() #Defineixo la forma de tancar la finestra de treball."
   ]
  },
  {
   "cell_type": "markdown",
   "metadata": {},
   "source": [
    "He definit una funció per iniciar la finestra del tkinter, de 600 x 600 píxels. Retorno la finestra abans de tancar la finestra de treball, així la podré utilitzar en els següents exercicis. He cridat la funció i l'he guardada en la variable finestra, per poder iniciar-la."
   ]
  },
  {
   "cell_type": "markdown",
   "metadata": {},
   "source": [
    "----"
   ]
  },
  {
   "cell_type": "markdown",
   "metadata": {},
   "source": [
    "## Pas 3. Traçat de la graella"
   ]
  },
  {
   "cell_type": "markdown",
   "metadata": {},
   "source": [
    "Implementar una funció que traci una quadrícula 3x3 fent servir Tkinter."
   ]
  },
  {
   "cell_type": "code",
   "execution_count": 7,
   "metadata": {},
   "outputs": [],
   "source": [
    "finestra = ini_finestra()\n",
    "    \n",
    "def ini_graella(finestra): #Defineixo una funció per dibuixar la graella.\n",
    "    for i in range (0,3): #Faig un bucle per optimitzar el codi.\n",
    "        finestra.create_rectangle(100+150*i, 100, 250+150*i, 250, outline = 'darkblue', width = 5) #Creo les caselles superiors.      \n",
    "        finestra.create_rectangle(100+150*i, 250, 250+150*i, 400, outline = 'darkblue', width = 5) #Creo les caselles centrals.\n",
    "        finestra.create_rectangle(100+150*i, 400, 250+150*i, 550, outline = 'darkblue', width = 5) #Creoles caselles inferiors.\n",
    "        \n",
    "ini_graella(finestra) #Crido la funció.\n",
    "finestra.mainloop()  #Defineixo la forma de tancar la finestra de treball."
   ]
  },
  {
   "cell_type": "markdown",
   "metadata": {},
   "source": [
    "Primer de tot, inicio la finestra (definida abans). Després, defineixo una funció en la qual he creat tres quadrats a cada fila amb un bucle. He tingut en compte els 100 píxels de diferència entre la vora de la finestra i la vora de la graella. He cridat la funció i he tancat la finestra de treball."
   ]
  },
  {
   "cell_type": "markdown",
   "metadata": {},
   "source": [
    "----"
   ]
  },
  {
   "cell_type": "markdown",
   "metadata": {},
   "source": [
    "## Pas 4. Marquem la casella"
   ]
  },
  {
   "cell_type": "markdown",
   "metadata": {},
   "source": [
    "Implementar una funció que marqui la casella seleccionada amb un cercle. En funció del numero de jugador dibuixar la marca d'un color o d'un altre."
   ]
  },
  {
   "cell_type": "code",
   "execution_count": 8,
   "metadata": {},
   "outputs": [
    {
     "name": "stdout",
     "output_type": "stream",
     "text": [
      "Digues el nombre de jugador triat: 1\n",
      "Digues quina fila vols: 2\n",
      "Digues quina columna vols: 2\n"
     ]
    }
   ],
   "source": [
    "finestra = ini_finestra()  #Inicio la finestra.\n",
    "graella = ini_graella(finestra) #Inicio la graella.\n",
    "\n",
    "\n",
    "def demanar_jugador(jugador1, jugador2):  #Creo una funció per demanar el jugador a l'usuari.\n",
    "    jugador = int(input('Digues el nombre de jugador triat: '))\n",
    "    if jugador != jugador1 and jugador != jugador2: #Si el jugador introduït no és ni 1 ni 2, obtinc un error.\n",
    "        print('Error, només es pot jugador 1 o 2.') \n",
    "        return demanar_jugador(jugador1, jugador2) #I l'usuari ha de tornar a introduir el valor del jugador.\n",
    "    else:\n",
    "        return jugador\n",
    "    \n",
    "jugador = demanar_jugador(1, 2) #Crido la funció i la guardo en la variable jugador, per poder després operar amb ella.\n",
    "\n",
    "def demanar_fila(fila1, fila2, fila3): #Creo una funció per demanar la fila a l'usuari.\n",
    "    fila = int(input('Digues quina fila vols: ')) \n",
    "    if fila != fila1 and fila != fila2 and fila != fila3: #Si la fila introduïda no és ni 1 ni 2 ni 3, obtinc un error.\n",
    "        print('Error, només es pot fila 1, 2 o 3.')\n",
    "        return demanar_fila(fila1, fila2, fila3) #I l'usuari ha de tornar a introduir el valor de la fila.\n",
    "    else:\n",
    "        return fila\n",
    "\n",
    "fila = demanar_fila(1, 2, 3) #Crido la funció i la guardo en la variable fila, per poder després operar amb ella.\n",
    "\n",
    "def demanar_columna(columna1, columna2, columna3): #Creo una funció per demanar la columna a l'usuari.\n",
    "    columna = int(input('Digues quina columna vols: '))\n",
    "    if columna != columna1 and columna != columna2 and columna != columna3: \n",
    "        print('Error, només es pot columna 1, 2 o 3.') #Si la columna introduïda no és ni 1 ni 2 ni 3, obtinc un error.\n",
    "        return demanar_columna(columna1, columna2, columna3) #I l'usuari ha de tornar a introduir el valor de la fila.\n",
    "    else:\n",
    "        return columna\n",
    "\n",
    "columna = demanar_columna(1, 2, 3) #Crido la funció i la guardo en la variable columna, per poder després operar amb ella.\n",
    "    \n",
    "    \n",
    "def marca_casella(jugador, fila, columna, finestra): #Creo una funció per marcar la casella.\n",
    "    ax = 100 + 150*(columna - 1) #Definexo les coordenades.\n",
    "    by = 100 + 150*(fila - 1)\n",
    "    cx = 100 + columna*150\n",
    "    dy = 100 + fila*150\n",
    "\n",
    "    if jugador == 1: #Si el jugador és el 1, creo un cercle d'un color.\n",
    "        finestra.create_oval(ax, by, cx, dy, fill = 'lightcyan', outline = 'navy')\n",
    "                             \n",
    "    elif jugador == 2: #Si el jugador és el 2, creo un cercle d'un altre color.\n",
    "        finestra.create_oval(ax, by, cx, dy, fill = 'lightseagreen', outline = 'navy')\n",
    "                            \n",
    "            \n",
    "marca_casella(jugador, fila, columna, finestra) #Crido la funció.\n",
    "\n",
    "finestra.mainloop()  #Defineixo la forma de tancar la finestra de treball."
   ]
  },
  {
   "cell_type": "markdown",
   "metadata": {},
   "source": [
    "Primer de tot, cal comentar que les funcions `demanar_jugador(jugador1, jugador2)`, `demanar_fila(fila1, fila2, fila3)` i `demanar_columna(columna1, columna2, columna3)` no les utilitzaré en els següents programes, ja que més endavant escollirem aquests paràmetres amb el click del ratolí.\n",
    "\n",
    "He iniciat la finestra i la graella (definides abans), i he definit tres funcions per obtenir els valors del jugador, la fila i la columna mitjançant l'entrada per teclat. He fet que aquests valors hagin d'estar en rangs determinats. És a dir, la fila i la columna han de ser necessàriament 1, 2 ó 3. I el jugador ha de ser 1 ó 2. Si no és així, obtenim un error i torno a cridar la funció perquè l'usuari introdueixi un valor dins del rang acceptat.\n",
    "\n",
    "Una vegada ja tinc els tres valors necessaris, creo un cercle del color del jugador indicat en la fila i la casella indicades."
   ]
  },
  {
   "cell_type": "markdown",
   "metadata": {},
   "source": [
    "----"
   ]
  },
  {
   "cell_type": "markdown",
   "metadata": {},
   "source": [
    "## Pas 5. Control del ratolí"
   ]
  },
  {
   "cell_type": "markdown",
   "metadata": {},
   "source": [
    "Analitzar i executar el codi que hi ha a continuació:"
   ]
  },
  {
   "cell_type": "code",
   "execution_count": 9,
   "metadata": {},
   "outputs": [
    {
     "name": "stdout",
     "output_type": "stream",
     "text": [
      "Mouse position: (170 155)\n"
     ]
    }
   ],
   "source": [
    "def motion(event): # Funció que s'activa quan es clica el botó esquerre del ratolí\n",
    "    \"\"\"Aquesta funció està preparada per rebre un event de TKinter.\n",
    "    Quan es rep l'event s'imprimeixen les coordenades del clic\n",
    "    a la finestra.\"\"\"\n",
    "    print(\"Mouse position: (%s %s)\" % (event.x, event.y))\n",
    "    return\n",
    "\n",
    "# Inicialitzem TKinter\n",
    "master = tkinter.Tk()\n",
    "\n",
    "# Posem un missatge de text a la finestra\n",
    "missatge = \"Cliqueu amb el ratolí sobre qualsevol punt de l'area verda. Observeu que s'imprimeixen les coordenades del clic.\"\n",
    "msg = tkinter.Message(master, text = missatge)\n",
    "msg.config(bg='white', font=('times', 24, 'italic'))\n",
    "msg.pack()\n",
    "\n",
    "# Inicialitzem el canvas\n",
    "canvas = tkinter.Canvas(master, borderwidth = 0,\n",
    "                        background = 'green',\n",
    "                        height = 300, width = 300)\n",
    "\n",
    "# En la zona del canvas associem el click esquerra del\n",
    "# ratolí a la funció \"motion\"\n",
    "canvas.bind('<ButtonRelease-1>',motion)\n",
    "canvas.pack()\n",
    "\n",
    "# Bucle principal de TKinter. Tanqueu la finestra per acabar.\n",
    "tkinter.mainloop() "
   ]
  },
  {
   "cell_type": "markdown",
   "metadata": {},
   "source": [
    "Aquest codi proporciona les coordenades de la posició en la que hem fet click dins del llenç definit, mitjançant un print. "
   ]
  },
  {
   "cell_type": "markdown",
   "metadata": {},
   "source": [
    "----"
   ]
  },
  {
   "cell_type": "markdown",
   "metadata": {},
   "source": [
    "## Pas 6. Control bàsic del joc"
   ]
  },
  {
   "cell_type": "markdown",
   "metadata": {},
   "source": [
    "Fer una funció que detecti quan es clica el ratolí, calculi en quina de les caselles del joc (en el tauler 3x3) s’ha fet un clic i gestioni el joc de tres en ratlla."
   ]
  },
  {
   "cell_type": "code",
   "execution_count": 11,
   "metadata": {},
   "outputs": [],
   "source": [
    "comptador = 0  #Inicio la variable global 'comptador' com a 0. Controlarà el nombre de jugades efectuades.\n",
    "\n",
    "def final_de_joc(finestra):  #Definexio una funció per quan s'acabi el joc.\n",
    "    finestra.create_text(325, 300,\n",
    "                             text = \"S'ha acabat el joc.\",\n",
    "                             fill = 'purple',\n",
    "                             font = ('Helvetica', 40))\n",
    "    \n",
    "    \n",
    "def control_de_joc(event):  # Funció que s'activa quan es clica el botó esquerre del ratolí.\n",
    "    global comptador\n",
    "\n",
    "    columna = int((event.x - 100)/150) + 1  #Definició de les columnes i files a partir de les coordenades del click.\n",
    "    fila = int((event.y - 100)/150) + 1\n",
    "    \n",
    "    if comptador < 9: \n",
    "        if comptador %2 == 0: #Quan el comptador és parell, li toca al jugador 1.\n",
    "            jugador = 1\n",
    "        elif comptador %2 != 0: #Quan el comptador és parell, li toca al jugador 2.\n",
    "            jugador = 2\n",
    "            \n",
    "        if columna >= 1 and columna <= 3 and fila >= 1 and fila <= 3: #Només quan es cliqui dins del tauler marquem casella\n",
    "                                                                      #i incrementem el comptador.\n",
    "            marca_casella(jugador, fila, columna, finestra)\n",
    "            comptador +=1\n",
    "    \n",
    "    if comptador == 9: #Màxim 9 jugades.\n",
    "        final_de_joc(finestra)\n",
    "                        \n",
    "finestra = ini_finestra()  #Inicio la finestra\n",
    "graella = ini_graella(finestra)  #Inicio la graella.\n",
    "finestra.create_text(330, 50, text = 'Selecciona la casella desitjada.', font = ('Helvetica', 30), fill = 'black')\n",
    "\n",
    "finestra.bind('<ButtonRelease-1>',control_de_joc) # En la zona del canvas associo el click esquerra del\n",
    "                                                  # ratolí a la funció \"control_de_joc\".\n",
    "\n",
    "finestra.mainloop() #Defineixo la forma de tancar la finestra de treball."
   ]
  },
  {
   "cell_type": "markdown",
   "metadata": {},
   "source": [
    "Primer de tot, inicio la variable global `comptador = 0`. Així, cada vegada que s'executi el programa, el comptador es posarà a 0. Aquesta variable és global ja que la utilitzo en la funció `control_de_joc(event)` però està definida fora de la funció.\n",
    "\n",
    "Després, defineixo una funció per quan s'acabi el joc, de manera que apareixi un text en el llenç.\n",
    "\n",
    "Seguidament, la funció `control_de_joc(event)` s'activa quan cliquem el botó esquerra del ratolí. Per definir les columnes i les files, li resto 100 píxels a la coordenada otinguda (és la distància entre el llenç i la graella) i ho divideixo entre 150 (mida de les caselles), quedant-me només amb la part entera de la divisió. Després li sumo 1 perquè volem que les columnes i les files s'iniciïn en 1, no en 0.\n",
    "\n",
    "Si el `comptador < 9`, defineixo la forma de jugar, de manera que quan el comptador és parell li toca al jugador 1 i quan és imparell li toca al jugador 2. Aleshores, només quan es cliqui dins de la graella i el comptador sigui menor que 9, marquem la casella i incrementem el comptador en 1.\n",
    "\n",
    "Per altra banda, si el `comptador == 9`, crido la funció de `final_de_joc(finestra)` (definida abans) i ja no podem marcar més caselles, s'ha acabat el joc.\n",
    "\n",
    "En els següents passos milloraré el programa."
   ]
  },
  {
   "cell_type": "markdown",
   "metadata": {},
   "source": [
    "----"
   ]
  },
  {
   "cell_type": "markdown",
   "metadata": {},
   "source": [
    "## Pas 7. Millora: control de caselles"
   ]
  },
  {
   "cell_type": "markdown",
   "metadata": {},
   "source": [
    "Millorar la funció anterior de manera que controli en cada pas quines caselles estan ocupades:"
   ]
  },
  {
   "cell_type": "code",
   "execution_count": 12,
   "metadata": {},
   "outputs": [],
   "source": [
    "comptador = 0 #Inicio la variable global 'comptador' com a 0. Controlarà el nombre de jugades efectuades.\n",
    "tauler = [[0, 0, 0], [0, 0, 0], [0, 0, 0]] #Inicio la variable global 'tauer' com una llista 3x3 nul·la. \n",
    "                                           #Controlarà l'ocupació de les caselles.\n",
    "\n",
    "def control_de_joc_2(event):  # Funció que s'activa quan es clica el botó esquerre del ratolí.\n",
    "    global comptador\n",
    "    global tauler\n",
    "\n",
    "    columna = int((event.x - 100)/150) + 1 #Definició de les columnes i files a partir de les coordenades del click.\n",
    "    fila = int((event.y - 100)/150) + 1\n",
    "        \n",
    "    if comptador < 9:\n",
    "        if comptador %2 == 0: #Quan el comptador és parell, li toca al jugador 1.\n",
    "            jugador = 1\n",
    "        elif comptador %2 != 0: #Quan el comptador és parell, li toca al jugador 2.\n",
    "            jugador = 2\n",
    "            \n",
    "        if columna >= 1 and columna <= 3 and fila >= 1 and fila <= 3: #Només quan es cliqui dins del tauler i la casella no \n",
    "                                                                      #estigui ocupada, marquem casella\n",
    "                                                                      #i incrementem el comptador.\n",
    "            if tauler[columna - 1][fila - 1] == jugador:    \n",
    "                print(\"Aquesta casella ja l'has seleccionat, selecciona'n una altra.\")\n",
    "            elif (tauler[columna - 1][fila - 1] != jugador) and (tauler[columna - 1][fila - 1] != 0):    \n",
    "                print(\"Casella ocupada per l'altre jugador, selecciona'n una altra.\")\n",
    "            else:\n",
    "                marca_casella(jugador, fila, columna, finestra)\n",
    "                tauler[columna - 1][fila - 1] = jugador #Guardo el valor del tauler.\n",
    "                comptador +=1\n",
    "                \n",
    "    if comptador == 9: #Màxim 9 jugades.\n",
    "        final_de_joc(finestra) #Definida en el pas anterior.\n",
    "\n",
    "         \n",
    "finestra = ini_finestra()  #Inicio la finestra\n",
    "graella = ini_graella(finestra)  #Inicio la graella.\n",
    "finestra.create_text(330, 50, text = 'Selecciona la casella desitjada.', font = ('Helvetica', 30), fill = 'black')\n",
    "\n",
    "finestra.bind('<ButtonRelease-1>',control_de_joc_2) # En la zona del canvas associo el click esquerra del\n",
    "                                                  # ratolí a la funció \"control_de_joc_2\".\n",
    "\n",
    "finestra.mainloop() #Defineixo la forma de tancar la finestra de treball."
   ]
  },
  {
   "cell_type": "markdown",
   "metadata": {},
   "source": [
    "Utilizo la funció definida abans i la milloro: defineixo una nova variable global anomenada 'tauler', que és una llista 3x3 nul·la. Serà qui controli si les caselles estan ocupades per un jugador o per l'altre, o si estan desocupades. És global perquè la defineixo fóra de la funció, però l'utilitzo dins.\n",
    "\n",
    "* Si `tauler[columna - 1][fila - 1] == 0`: casella desocupada\n",
    "* Si `tauler[columna - 1][fila - 1] == 1`: casella ocupada pel jugador 1\n",
    "* Si `tauler[columna - 1][fila - 1] == 2`: casella ocupada pel jugador 2\n",
    "\n",
    "Resto 1 a la columna i a la fila perquè les llistes s'inicien amb l'element 0, però per nosaltres el primer element de les columnes i de les files serà l'1.\n",
    "\n",
    "Funcionament del tauler:\n",
    "* Només quan es cliqui dins del tauler i la casella estigui desocupada, podrem marcar la casella i incrementar el comptador.\n",
    "* Si un jugador intenta seleccionar una casella ja seleccionada per l'altre jugador, obtenim un print i el comptador no s'incrementa.\n",
    "* Si un jugador intenta seleccionar una casella ja prèviament seleccionada per ell mateix, obtenim un altre print i el comptador tampoc s'incrementa.\n",
    "\n",
    "En el següent pas milloraré més el programa."
   ]
  },
  {
   "cell_type": "markdown",
   "metadata": {},
   "source": [
    "----"
   ]
  },
  {
   "cell_type": "markdown",
   "metadata": {},
   "source": [
    "## Pas 8. Millora opcional: control de línia"
   ]
  },
  {
   "cell_type": "markdown",
   "metadata": {},
   "source": [
    "Milloreu la funció anterior de manera que en cada pas controli si s’ha produit algun “tres en\n",
    "ratlla”"
   ]
  },
  {
   "cell_type": "code",
   "execution_count": 15,
   "metadata": {},
   "outputs": [],
   "source": [
    "comptador = 0 #Inicio la variable global 'comptador' com a 0. Controlarà el nombre de jugades efectuades.\n",
    "tauler = [[0, 0, 0], [0, 0, 0], [0, 0, 0]] #Inicio la variable global 'tauer' com una llista 3x3 nul·la. \n",
    "                                           #Controlarà l'ocupació de les caselles.\n",
    "\n",
    "def final_de_joc_empat(finestra): #Millora: definició d'una funció per quan el comptador arribi a 9.\n",
    "                                  #Significa que els jugadors han empatat.\n",
    "    finestra.create_text(320, 300,\n",
    "                             text = \"Final de joc. Heu empatat\",\n",
    "                             fill = 'purple',\n",
    "                             font = ('Helvetica', 40))\n",
    "\n",
    "    \n",
    "def jugador_guanyador(jugador): #Definició d'una funció per quan un dels jugador guanyi la partida.\n",
    "    finestra.create_text(325, 300,\n",
    "                             text = \"Ha guanyat el jugador {}\".format(jugador),\n",
    "                             fill = 'purple',\n",
    "                             font = ('Helvetica', 40))\n",
    "    \n",
    "    \n",
    "def control_de_joc_3(event):  #Funció que s'activa quan es clica el botó esquerre del ratolí.\n",
    "    global comptador\n",
    "    global tauler\n",
    "    \n",
    "    columna = int((event.x - 100)/150) + 1 #Definició de les columnes i files a partir de les coordenades del click.\n",
    "    fila = int((event.y - 100)/150) + 1\n",
    "        \n",
    "    if comptador < 9:\n",
    "        if comptador %2 == 0: #Quan el comptador és parell, li toca al jugador 1.\n",
    "            jugador = 1\n",
    "        elif comptador %2 != 0: #Quan el comptador és parell, li toca al jugador 2.\n",
    "            jugador = 2\n",
    "            \n",
    "        if columna >= 1 and columna <= 3 and fila >= 1 and fila <= 3: #Només quan es cliqui dins del tauler i la casella no \n",
    "                                                                      #estigui ocupada, marquem casella\n",
    "                                                                      #i incrementem el comptador.\n",
    "            if tauler[columna - 1][fila - 1] == jugador:    \n",
    "                print(\"Aquesta casella ja l'has seleccionat, selecciona'n una altra.\")\n",
    "            elif (tauler[columna - 1][fila - 1] != jugador) and (tauler[columna - 1][fila - 1] != 0):    \n",
    "                print(\"Casella ocupada per l'altre jugador, selecciona'n una altra.\")\n",
    "            else:\n",
    "                marca_casella(jugador, fila, columna, finestra)\n",
    "                tauler[columna - 1][fila - 1] = jugador #Guardo el valor del tauler.\n",
    "                comptador +=1\n",
    "             \n",
    "                for columna in range(0, 3): #Bucle per comprovar si hi ha un 3 en ratlla en alguna de les columnes.\n",
    "                     if tauler[columna][0] == tauler[columna][1] == tauler[columna][2] == jugador:\n",
    "                            jugador_guanyador(jugador)\n",
    "                            comptador = 10 #Paro el programa.                 \n",
    "                for fila in range(0, 3): #Bucle per comprovar si hi ha un 3 en ratlla en alguna de les files.\n",
    "                     if tauler[0][fila] == tauler[1][fila] == tauler[2][fila] == jugador:\n",
    "                            jugador_guanyador(jugador)\n",
    "                            comptador = 10 #Paro el programa.                            \n",
    "                if tauler[0][0] == tauler[1][1] == tauler[2][2] == jugador: #Bucle per comprovar si hi ha un 3 en ratlla\n",
    "                                                                            #en la diagonal principal.\n",
    "                    jugador_guanyador(jugador)  \n",
    "                    comptador = 10 #Paro el programa. \n",
    "                if tauler[2][0] == tauler[1][1] == tauler[0][2] == jugador: #Bucle per comprovar si hi ha un 3 en ratlla\n",
    "                                                                            #en la diagonal secundària.\n",
    "                    jugador_guanyador(jugador)\n",
    "                    comptador = 10 #Paro el programa. \n",
    "                    \n",
    "    if comptador == 9: #Màxim 9 jugades.\n",
    "        final_de_joc_empat(finestra) \n",
    "\n",
    "         \n",
    "finestra = ini_finestra()  #Inicio la finestra\n",
    "graella = ini_graella(finestra)  #Inicio la graella.\n",
    "finestra.create_text(330, 50, text = 'Selecciona la casella desitjada.', font = ('Helvetica', 30), fill = 'black')\n",
    "\n",
    "finestra.bind('<ButtonRelease-1>',control_de_joc_3) # En la zona del canvas associo el click esquerra del\n",
    "                                                  # ratolí a la funció \"control_de_joc_3\".\n",
    "\n",
    "finestra.mainloop() #Defineixo la forma de tancar la finestra de treball."
   ]
  },
  {
   "cell_type": "markdown",
   "metadata": {},
   "source": [
    "Utilizo la funció millorada del pas anterior i la millor més: defineixo una nova funció que mostri (en el llenç) el missatge \"Final de joc. Heu empatat\" quan el comptador arribi a 9, ja que significarà que cap dels dos jugadors ha guanyat.\n",
    "\n",
    "Defineixo una altra funció perquè quan un dels jugadors faci 3 en ratlla i guanyi la partida, es mostri en el llenç un missatge que dirà quin jugador és el guanyador.\n",
    "\n",
    "Aleshores, només en el cas que cliquem dins del tauler i la casella no estigui ocupada, podrem marcar la casella i incrementar el comptador. Però cal comprovar abans si hi ha un 3 en ratlla. Ho he fet de la següent manera:\n",
    "\n",
    "He creat un bucle per comprobar si hi ha un 3 en ratlla en alguna de les columnes. És a dir, si una mateixa columna està ocupada pel mateix jugador (tot 1 ó tot 2). En el cas que sigui així, crido la funció `jugador_guanyador(jugador)`, per indicar en el llenç que ha guanyat la partida. I després, defineixo el comptador com a `comptador = 10`. Així, com que el comptador no és menor que 9 i tampoc és igual a 9, el programa es para i no podem marcar més caselles. \n",
    "\n",
    "Faig el mateix procediment per les files.\n",
    "\n",
    "També cal recordar que en aquest joc es pot fer 3 en ratlla de manera diagonal, així que he fet el mateix procediment per les dues diagonals (principal i secundària), però només amb condicionals, sense cap bucle."
   ]
  }
 ],
 "metadata": {
  "kernelspec": {
   "display_name": "Python 3",
   "language": "python",
   "name": "python3"
  },
  "language_info": {
   "codemirror_mode": {
    "name": "ipython",
    "version": 3
   },
   "file_extension": ".py",
   "mimetype": "text/x-python",
   "name": "python",
   "nbconvert_exporter": "python",
   "pygments_lexer": "ipython3",
   "version": "3.8.3"
  }
 },
 "nbformat": 4,
 "nbformat_minor": 4
}
